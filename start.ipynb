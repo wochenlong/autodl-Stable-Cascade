{
 "cells": [
  {
   "cell_type": "markdown",
   "id": "7defdbae",
   "metadata": {
    "jp-MarkdownHeadingCollapsed": true,
    "tags": []
   },
   "source": [
    "# Kohya ss py3.11\n",
    "\n",
    "\n",
    "# 启动Webui\n",
    "\n",
    "注意，如果你使用多卡训练，请先配置accelerate（会用多卡的相信你会配置了）\n",
    "```bash\n",
    "accelerate config\n",
    "```\n",
    "本镜像在RTX4090单卡上配置，如果训练中报错，也可以尝试配置acclerate\n"
   ]
  },
  {
   "cell_type": "markdown",
   "id": "034fd71d-584f-4037-a332-582aeb8d7d5b",
   "metadata": {
    "tags": []
   },
   "source": [
    "# 运行下面的代码块从云端更新`start.ipynb`（本文档）\n",
    "### 更新完后请重新刷新jupyterlab的文件管理然后打开此文档 `/root/start.ipynb`\n",
    "### 现在运行的版本是 24.02.19   stable-cascade 特别版本 已最新"
   ]
  },
  {
   "cell_type": "code",
   "execution_count": null,
   "id": "c7b2a6ed-a146-4432-9e3d-74b7816b2787",
   "metadata": {},
   "outputs": [],
   "source": [
    "!rm -rf /root/start.ipynb && wget https://drive.t4wefan.pub/d/windsing/wingsing/start.ipynb"
   ]
  },
  {
   "cell_type": "markdown",
   "id": "b2ac36b2-7998-48f1-9bf3-d28b2a2e019b",
   "metadata": {
    "tags": []
   },
   "source": [
    "# 可选：下载训练所需模型（SDXL/SD1.5）\n",
    "(SDXL官模默认已下载到/root/ckpts/sd_xl_base_1.0.safetensors，这里不用运行了)\n",
    "\n",
    "下面下载的模型建议保存到/root/autodl-tmp/ckpts路径"
   ]
  },
  {
   "cell_type": "markdown",
   "id": "d74658c0-4304-49b4-9859-0a3fdfc41fdf",
   "metadata": {},
   "source": [
    "## stable-cascade版本删除了sd_xl_base_1.0.safetensors，需要手动下载"
   ]
  },
  {
   "cell_type": "code",
   "execution_count": null,
   "id": "7e32e8f4-b62b-4fc5-b357-dd0504521746",
   "metadata": {},
   "outputs": [],
   "source": [
    "!source /etc/network_turbo && wget https://huggingface.co/stabilityai/stable-diffusion-xl-base-1.0/resolve/main/sd_xl_base_1.0.safetensors -P /root/ckpts"
   ]
  },
  {
   "cell_type": "markdown",
   "id": "899936f5-8ef6-452a-b61b-7bcbf717b853",
   "metadata": {},
   "source": [
    "## 最新：下载stable-cascade训练底模（stable-cascade版本内置）"
   ]
  },
  {
   "cell_type": "code",
   "execution_count": null,
   "id": "df7b73cc-b835-4453-a352-6cb8add647ea",
   "metadata": {},
   "outputs": [],
   "source": [
    "!source /etc/network_turbo && wget https://huggingface.co/stabilityai/stable-cascade/resolve/main/stage_c_bf16.safetensors -P /root/autodl-tmp/ckpts"
   ]
  },
  {
   "cell_type": "markdown",
   "id": "1a1c076a-82e5-4789-87b1-66f6a95934b3",
   "metadata": {},
   "source": [
    "## 1.下载SDXL动漫推荐底模 animagine-xl-3.0"
   ]
  },
  {
   "cell_type": "code",
   "execution_count": null,
   "id": "5c25c44a-af18-4a49-bee1-e0eb85988c2c",
   "metadata": {},
   "outputs": [],
   "source": [
    "!source /etc/network_turbo && wget https://huggingface.co/cagliostrolab/animagine-xl-3.0/resolve/main/animagine-xl-3.0.safetensors -P /root/ckpts"
   ]
  },
  {
   "cell_type": "markdown",
   "id": "2aa5f20b-c32d-4682-9ba2-03e03c3881c8",
   "metadata": {},
   "source": [
    "## 2.下载SD1.5动漫推荐底模 animefull-latest-ckpt （nai）"
   ]
  },
  {
   "cell_type": "code",
   "execution_count": null,
   "id": "84d9646d-ae40-42b4-ab5c-4bacb429ba34",
   "metadata": {},
   "outputs": [],
   "source": [
    "!source /etc/network_turbo && https://huggingface.co/deepghs/animefull-latest-ckpt/resolve/main/model.ckpt  -P /root//ckpts"
   ]
  },
  {
   "cell_type": "markdown",
   "id": "1227da07-4aa2-4441-818e-0cea9c7f17ef",
   "metadata": {},
   "source": [
    "-----------------------------------------------------------------------------------------"
   ]
  },
  {
   "cell_type": "markdown",
   "id": "e6c02ffe-cdc5-44ce-b733-5a103421d4e4",
   "metadata": {
    "tags": []
   },
   "source": [
    "# 用公开服务端口启动kohya_ss，运行下面这一行  <span style=\"color:red; \"> （新手推荐）  </span>\n"
   ]
  },
  {
   "cell_type": "markdown",
   "id": "6c671e6f-dfe5-4fef-9a04-a695824beacd",
   "metadata": {},
   "source": [
    "2024.01.04更新： 使用https://hf-mirror.com/ 网站下载抱脸依赖，训练不会再报错，感谢镜像站！功德无量\n",
    "\n",
    "本镜像已经内置了catcat-xl训练集(/root/dataset/catcat)，可以用于测试是否工作正常\n",
    "\n",
    "启动成功后，返回控制台，点击你的实例的“自定义服务”进入UI即可\n",
    "\n",
    "\n",
    "\n",
    "训练遇到问题，翻到下面的<span style=\"color:red; font-size:larger;\">SDXL的训练报错”栏目</span>  \n",
    " \n",
    "当前版本已支持SDXL大模型训练，支持中文界面\n"
   ]
  },
  {
   "cell_type": "code",
   "execution_count": null,
   "id": "c681c5c1",
   "metadata": {},
   "outputs": [],
   "source": [
    "# 默认模型已下载，在/root/ckpts/sd_xl_base_1.0_0.9vae.safetensors\n",
    "!mkdir /root/autodl-tmp/current #创建临时文件夹存储训练中数据\n",
    "!cd /root/kohya_ss && HF_ENDPOINT=https://hf-mirror.com ./gui.sh --language zh-CN --server_port 6006 --listen 0.0.0.0 --headless "
   ]
  },
  {
   "cell_type": "markdown",
   "id": "85e18778-9d02-480d-b3a8-747a8c25c50d",
   "metadata": {
    "jp-MarkdownHeadingCollapsed": true,
    "tags": []
   },
   "source": [
    "# 点击下面关闭学术加速（如果有需要）\n",
    "（Stable-diffusion-webui启动时默认学术加速，为了方便从抱脸下载依赖，）"
   ]
  },
  {
   "cell_type": "code",
   "execution_count": null,
   "id": "4fabc422-223b-407a-8f98-ae0f04a4b001",
   "metadata": {},
   "outputs": [],
   "source": [
    "!unset http_proxy && unset https_proxy"
   ]
  },
  {
   "cell_type": "markdown",
   "id": "39b7ff42-ad88-4e90-88b2-ec5d1f046613",
   "metadata": {
    "tags": []
   },
   "source": [
    "# 启动 Stable-diffusion-webui 来调试模型\n",
    "(适合新手，默认安装tagger可以用来给训练集打标，默认6006端口，也可以改成自己的)"
   ]
  },
  {
   "cell_type": "markdown",
   "id": "55f405a1-7605-4bf3-a595-126b81fd947c",
   "metadata": {},
   "source": [
    "## 1.移动sd到数据盘 ，系统盘空间不够只能放一个大模型"
   ]
  },
  {
   "cell_type": "code",
   "execution_count": null,
   "id": "68aadb84-0932-457b-a2a6-76d2111013fa",
   "metadata": {},
   "outputs": [],
   "source": [
    "!mv /root/stable-diffusion-webui /root/autodl-tmp/stable-diffusion-webui"
   ]
  },
  {
   "cell_type": "markdown",
   "id": "cf1022ef-2881-4c11-a6f9-4f4230479de2",
   "metadata": {},
   "source": [
    "## 2.启动 stable-diffusion-webui"
   ]
  },
  {
   "cell_type": "code",
   "execution_count": null,
   "id": "1a2cab6a-c06e-4940-a31a-05cb98cfc20c",
   "metadata": {},
   "outputs": [],
   "source": [
    "!source /etc/network_turbo && cd  /root/autodl-tmp/stable-diffusion-webui && python launch.py --port 6006 --xformers --enable-insecure-extension-access --listen --no-half"
   ]
  },
  {
   "cell_type": "markdown",
   "id": "cff91fb7-4ba5-4400-b903-45cbf97d1fc7",
   "metadata": {
    "tags": []
   },
   "source": [
    "# 启动 ComfyUI 来调试模型\n",
    "(适合专业用户，默认6006端口，也可以改成自己的)"
   ]
  },
  {
   "cell_type": "markdown",
   "id": "5a621e9d-0a02-4eae-a600-861918e2d13a",
   "metadata": {},
   "source": [
    "## 直接在系统盘启动comfyui（不推荐）"
   ]
  },
  {
   "cell_type": "code",
   "execution_count": null,
   "id": "cf93446a-a95e-4426-9ddd-8fe68987f709",
   "metadata": {},
   "outputs": [],
   "source": [
    "!source /etc/network_turbo && cd  /root/ComfyUI  && python main.py --preview-method auto --port 6006 --listen 0.0.0.0"
   ]
  },
  {
   "cell_type": "markdown",
   "id": "2ec8276b-151f-495f-aa42-fb702644e9d5",
   "metadata": {},
   "source": [
    "## 1.移动comfyui到数据盘，拥有更多空间"
   ]
  },
  {
   "cell_type": "code",
   "execution_count": null,
   "id": "4617dfbc-9c40-42e0-92f1-247902e2f936",
   "metadata": {},
   "outputs": [],
   "source": [
    "!mv /root/ComfyUI /root/autodl-tmp/ComfyUI"
   ]
  },
  {
   "cell_type": "markdown",
   "id": "157eb9f7-d7b8-4cb3-aec3-a18bac078365",
   "metadata": {},
   "source": [
    "## 2.启动ComfyUI"
   ]
  },
  {
   "cell_type": "code",
   "execution_count": null,
   "id": "49c551e9-d1f9-4c94-aabc-b2c5ad5be1f0",
   "metadata": {},
   "outputs": [],
   "source": [
    "!source /etc/network_turbo && cd  /root/autodl-tmp/ComfyUI  && python main.py --preview-method auto --port 6006 --listen 0.0.0.0"
   ]
  },
  {
   "cell_type": "markdown",
   "id": "15b544d3",
   "metadata": {
    "jp-MarkdownHeadingCollapsed": true,
    "tags": []
   },
   "source": [
    "\n",
    "\n",
    "## 手动部署（本镜像自带环境，理论上可以直接运行，推荐py3.11）"
   ]
  },
  {
   "cell_type": "code",
   "execution_count": null,
   "id": "63c7aaf8",
   "metadata": {},
   "outputs": [],
   "source": [
    "# 如果你同时使用多个gpu\n",
    "!export MKL_SERVICE_FORCE_INTEL=1\n",
    "!export MKL_THREADING_LAYER=GNU"
   ]
  },
  {
   "cell_type": "markdown",
   "id": "e159c4b9",
   "metadata": {},
   "source": [
    "克隆仓库"
   ]
  },
  {
   "cell_type": "code",
   "execution_count": null,
   "id": "d1836e8e-5452-4d84-9195-23ea400bb47a",
   "metadata": {},
   "outputs": [],
   "source": [
    "# 启动学术加速\n",
    "!source /etc/network_turbo"
   ]
  },
  {
   "cell_type": "code",
   "execution_count": null,
   "id": "3381f5b1",
   "metadata": {},
   "outputs": [],
   "source": [
    "!git clone -b sdxl-dev https://github.com/bmaltais/kohya_ss.git"
   ]
  },
  {
   "cell_type": "markdown",
   "id": "480757c5",
   "metadata": {},
   "source": [
    "安装pytorch（根据当前镜像最高版本来选择）"
   ]
  },
  {
   "cell_type": "code",
   "execution_count": null,
   "id": "7d36dd73",
   "metadata": {},
   "outputs": [],
   "source": [
    "#cu117\n",
    "#!conda install pytorch torchvision torchaudio pytorch-cuda=11.7 -c pytorch -c nvidia\n",
    "\n",
    "#cu118\n",
    "!conda install pytorch torchvision torchaudio pytorch-cuda=11.8 -c pytorch -c nvidia"
   ]
  },
  {
   "cell_type": "markdown",
   "id": "30b96afd",
   "metadata": {},
   "source": [
    "安装需要的依赖"
   ]
  },
  {
   "cell_type": "code",
   "execution_count": null,
   "id": "a6570ae1",
   "metadata": {},
   "outputs": [],
   "source": [
    "!cd /root/konya_ss\n",
    "!pip install -r requirements.txt\n",
    "!pip install xformers==0.0.20 bitsandbytes==0.35.0 tensorboard==2.12.3 tensorflow==2.12.0"
   ]
  },
  {
   "cell_type": "markdown",
   "id": "2f0d16ab",
   "metadata": {},
   "source": [
    "如果你使用上一个代码块时依赖不全，尝试这个"
   ]
  },
  {
   "cell_type": "code",
   "execution_count": null,
   "id": "fc5ae6f0",
   "metadata": {},
   "outputs": [],
   "source": [
    "!pip install accelerate==0.19.0 albumentations==1.3.0 altair==4.2.2 dadaptation==3.1 diffusers[torch]==0.18.2 easygui==0.98.3 einops==0.6.0 fairscale==0.4.13 ftfy==6.1.1 gradio==3.36.1 huggingface-hub==0.15.1 lion-pytorch==0.0.6 lycoris_lora==1.8.0 invisible-watermark==0.2.0 open-clip-torch==2.20.0 opencv-python==4.7.0.68 prodigyopt==1.0 pytorch-lightning==1.9.0 rich==13.4.1 safetensors==0.3.1 timm==0.6.12 tk==0.1.0 toml==0.10.2 transformers==4.30.2 voluptuous==0.13.1 wandb==0.15.0 xformers==0.0.20 bitsandbytes==0.35.0 tensorboard==2.12.3 tensorflow==2.12.0"
   ]
  },
  {
   "cell_type": "code",
   "execution_count": null,
   "id": "af49b137-88fd-42fc-baa5-f7bb7b5fc103",
   "metadata": {},
   "outputs": [],
   "source": [
    "# 记得取消学术加速\n",
    "!unset http_proxy && unset https_proxy"
   ]
  },
  {
   "cell_type": "markdown",
   "id": "d9e6f759-e663-47b0-9e20-fa284d6adf08",
   "metadata": {},
   "source": [
    "\n",
    "\n",
    "# 一些附赠软件\n",
    "### frp 方便用于内网穿透，需要手写配置文件\n",
    "### gohttpserver 轻量级文件管理web，可以方便的打包和多线程下载文件\n",
    "### Eugeoter/sd-dataset-manager 最舒服的可视化数据集处理工具\n",
    "\n",
    "Eugeoter/sd-dataset-manager支持：自定义过滤、打标、删标、批量去角色特征词、美学评分等功能"
   ]
  },
  {
   "cell_type": "markdown",
   "id": "730d04a5-eca5-43d0-aadd-f63078466800",
   "metadata": {},
   "source": [
    "## 1.超级好用！可以通过下面的gohttpserver 来上传训练集和打包下载模型文件！"
   ]
  },
  {
   "cell_type": "code",
   "execution_count": null,
   "id": "daddddbc-702b-4728-a3e6-b1b4dcd3d043",
   "metadata": {},
   "outputs": [],
   "source": [
    "# 启动 gohttpserver 会占用6006端口，可以自己改端口。\n",
    "\n",
    "!cd /root && ./gohttpserver --port 6006 --upload"
   ]
  },
  {
   "cell_type": "markdown",
   "id": "4c9437a2-cf63-4422-9e49-df639ee835ef",
   "metadata": {},
   "source": [
    "## 2.启动Eugeoter/sd-dataset-manager 训练集处理工具\n",
    "github链接：https://github.com/Eugeoter/sd-dataset-manager\n",
    "\n",
    "有帮助的话，记得给作者点个star~"
   ]
  },
  {
   "cell_type": "markdown",
   "id": "870abea9-2f26-4328-b96d-bc70ed23b762",
   "metadata": {},
   "source": [
    "1.**更新训练集处理工具** "
   ]
  },
  {
   "cell_type": "code",
   "execution_count": null,
   "id": "01bb6060-f060-4c71-a30b-fe6e224d0c6f",
   "metadata": {},
   "outputs": [],
   "source": [
    "!cd /root/sd-dataset-manage  &&  git pull"
   ]
  },
  {
   "cell_type": "markdown",
   "id": "fcb0ae90-b147-430a-bf3e-8a8aa3d58b68",
   "metadata": {},
   "source": [
    "2.**启动训练集处理工具**  \n",
    "“path/to/folder” 替换成你想处理的训练集路径,支持同时处理多个文件夹"
   ]
  },
  {
   "cell_type": "code",
   "execution_count": null,
   "id": "c8f5adc9-51e8-4b40-9860-ff62fb4a7f15",
   "metadata": {},
   "outputs": [],
   "source": [
    "!source /etc/network_turbo && cd /root/sd-dataset-manager && python api.py --source 'path/to/folder' --write_to_txt --language cn --port 6006"
   ]
  },
  {
   "cell_type": "markdown",
   "id": "99ef9231-62ee-44da-aa40-b5bf1328bb6f",
   "metadata": {},
   "source": [
    "##  文件夹映射（共用模型文件） ln -s A文件夹的路径 B文件夹的路径"
   ]
  },
  {
   "cell_type": "code",
   "execution_count": null,
   "id": "e7b23a57-2230-4b61-8acb-7bab8c0d6ca9",
   "metadata": {},
   "outputs": [],
   "source": [
    "!ln -s /root/ckpts /root/stable-diffusion-webui/models/Stable-diffusion\n",
    "!ln -s /root/ckpts /root/ComfyUI/models/checkpoints"
   ]
  },
  {
   "cell_type": "markdown",
   "id": "1dffcc67-bd15-4ef4-85f6-20129d12675b",
   "metadata": {
    "tags": []
   },
   "source": [
    "# SDXL的训练报错栏目"
   ]
  },
  {
   "cell_type": "markdown",
   "id": "08dd40fc-6b89-4c99-ab3a-44e0139a70ac",
   "metadata": {},
   "source": [
    "\n",
    "<span style=\"color:red; font-size:larger;\">#1.怀疑自己参数有问题，看这个（针对lora训练）</span>\n",
    "\n",
    "可以试试加载“nobug.json”文件，路径是 `/root/example/SDXL_lora.json`\n",
    "\n",
    "kohya_ss的脚本可以很方便地加载别人的训练参数，没记错的话点开UI左上角的的Configuration file 进去加载\n",
    "\n",
    "\n",
    "记得改路径和其他参数！这个训练参数只是作为我个人的示范\n",
    "\n",
    "部分优化器会导致SDXL训练报错,目前默认的优化器和神童优化器是安全的（待补充）\n",
    "\n",
    "b站视频来的提醒一下，如果上面使用了带bf16的预设，下面就不要勾选fp16相关选项，比如full fp16 training\n",
    "\n",
    "<span style=\"color:red; font-size:larger;\"># 2 .抱脸安装失败的,通过这行命令启动训练</span>\n",
    "\n",
    "如果报错出现什么6006端口已经被占用，可能是你之前的训练训练还开着。\n",
    "\n",
    "先按左上角“内核”-“重启内核并清除所有输出” 关掉之前的端口,\n",
    "\n",
    "然后把这个命令复制粘贴到**终端**执行\n",
    "\n",
    "`cd /root/kohya_ss && HF_ENDPOINT=https://hf-mirror.com ./gui.sh --language zh-CN  --server_port 6006 --listen 0.0.0.0 --headless `\n",
    "\n",
    "终端在哪里？\n",
    "启动页——其他——终端\n",
    "\n",
    "<span style=\"color:red; font-size:larger;\">#3.报错：NameError: name 'CUDA_ RUNTIME_ LIB’ is not defined</span>\n",
    "\n",
    "出现这个报错，建议更换训练的显卡，CUDA建议12.0，其他版本都容易奇奇怪怪的报错\n",
    "\n",
    "\n",
    "<span style=\"color:red; font-size:larger;\"># 4 .关于SDXL的大模型训练</span>\n",
    "\n",
    "1.SDXL大模型训练需要带上vae训练\n",
    "\n",
    "--不带vae当前版本会发生detected in latents 的报错，vae我放在`/root/vae/sdxl_vae.safetensors`\n",
    "\n",
    "2.SDXL大模型训练分UI训练和脚本训练\n",
    "\n",
    "-- UI训练SDXL大模型的流程跟lora差不多，在kohya_ss_gui右上角切换到“Dreambooth”就行，有一个参考的配置文件`/root/example/SDXL_db.json`（能动，能训练，但是显存占用高），可以在这个配置上自行修改其他参数\n",
    "   \n",
    "3.SDXL大模型脚本训练\n",
    "\n",
    "--   脚本训练包括青龙脚本和其他的一些魔改脚本，脚本需要自己上传，个人感觉，脚本训练比UI训练更省显存，我现在都是用脚本训练的， 镜像环境是支持大模型训练的，有动手能力的修改一下脚本里面相关的文件路径，大概就能直接用了（稍微有点麻烦）,\"train_sdxl.sh\"可以换成你的脚本实际的文件名字\n",
    "\n",
    "4.SDXL大模型训练的显存和显卡\n",
    "\n",
    "--大模型训练很吃显存，大概是24G以上吧，目前我租的显卡是A40(48G)和A100（40G和80G）\n"
   ]
  },
  {
   "cell_type": "markdown",
   "id": "ab18065a-3c29-4b61-aed6-0c258774093d",
   "metadata": {},
   "source": [
    "# ai交流与问题反馈\n",
    "镜像交流群：906520028 ； SDXL模型训练交流群：914818692"
   ]
  },
  {
   "cell_type": "markdown",
   "id": "c6cb64ce-6221-44af-b6f8-770ee9bb1c39",
   "metadata": {},
   "source": [
    "\n",
    "\n",
    "\n",
    "\n",
    "# 运行下面的代码启动脚本训练 （example）\n",
    "根据需要修改train_sdxldb 文件内的参数\n",
    "\n",
    "大模型路径 pretrained_model\n",
    "\n",
    "保存模型名称   output_name\n",
    "\n",
    "数据集路径   train_data_dir\n",
    "\n",
    "保存模型的路径  output_dir\n",
    "\n",
    "日志的路径 logging_dir\n",
    "\n",
    "其他的自己看需要修改"
   ]
  },
  {
   "cell_type": "markdown",
   "id": "3a2574a9-1d25-47b9-8b2d-6a0d02808d2e",
   "metadata": {},
   "source": [
    "**启动SDXL 大模型训练** 16G显存占用"
   ]
  },
  {
   "cell_type": "code",
   "execution_count": null,
   "id": "33040205-9dca-4311-87f3-ad05d290bb9f",
   "metadata": {},
   "outputs": [],
   "source": [
    "!cd /root && HF_ENDPOINT=https://hf-mirror.com  bash train_sdxldb.sh"
   ]
  },
  {
   "cell_type": "markdown",
   "id": "7e682e8e-4f18-46b6-b3a6-f76e47dbf5bd",
   "metadata": {},
   "source": [
    "**启动SDXL LORA训练**"
   ]
  },
  {
   "cell_type": "code",
   "execution_count": null,
   "id": "0204b325-011d-43f7-a680-95c8176d927b",
   "metadata": {},
   "outputs": [],
   "source": [
    "!cd /root &&  HF_ENDPOINT=https://hf-mirror.com bash train_sdxllora.sh"
   ]
  },
  {
   "cell_type": "markdown",
   "id": "ddb73e30-e4ac-4467-a8f0-1ab76daf3de4",
   "metadata": {},
   "source": [
    "**启动自动批量训练**"
   ]
  },
  {
   "cell_type": "code",
   "execution_count": null,
   "id": "ae68a1c5-fd1d-4f4b-a441-ba696f552804",
   "metadata": {},
   "outputs": [],
   "source": [
    "!cd /root/kohya_ss & chmod +x train.sh && HF_ENDPOINT=https://hf-mirror.com ./train.sh "
   ]
  }
 ],
 "metadata": {
  "kernelspec": {
   "display_name": "Python 3 (ipykernel)",
   "language": "python",
   "name": "python3"
  },
  "language_info": {
   "codemirror_mode": {
    "name": "ipython",
    "version": 3
   },
   "file_extension": ".py",
   "mimetype": "text/x-python",
   "name": "python",
   "nbconvert_exporter": "python",
   "pygments_lexer": "ipython3",
   "version": "3.10.8"
  }
 },
 "nbformat": 4,
 "nbformat_minor": 5
}
